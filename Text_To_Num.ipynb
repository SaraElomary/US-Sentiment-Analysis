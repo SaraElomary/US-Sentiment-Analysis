nltk.download('stopwords')
from nltk.corpus import stopwords
import pandas as pd
import numpy as np

from sklearn.feature_extraction.text import TfidfVectorizer
#processed_features.flatten()
tf = TfidfVectorizer(analyzer='word',
                     max_features=2500, min_df=7, max_df=0.8, stop_words=stopwords.words('english'))
processed_features = tf.fit_transform(processed_features).toarray()


print(processed_features)
